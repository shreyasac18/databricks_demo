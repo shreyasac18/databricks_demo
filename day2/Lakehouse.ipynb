{
 "cells": [
  {
   "cell_type": "code",
   "execution_count": 0,
   "metadata": {
    "application/vnd.databricks.v1+cell": {
     "cellMetadata": {},
     "inputWidgets": {},
     "nuid": "fc897493-c9e5-4801-91ca-c4bcfbf3bff3",
     "showTitle": false,
     "tableResultSettingsMap": {},
     "title": ""
    }
   },
   "outputs": [],
   "source": [
    "Data Warehouse\n",
    "Data Lake \n",
    "Lakehouse: Data Lake + Data Warehouse\n",
    "\n",
    "\n",
    "where is lakehouse?\n",
    "how to build lakehouse?\n",
    "\n",
    "open table formats (support ACID)\n",
    "delta iceberg hudi ---- help you to buidl lakehouse "
   ]
  },
  {
   "cell_type": "code",
   "execution_count": 0,
   "metadata": {
    "application/vnd.databricks.v1+cell": {
     "cellMetadata": {},
     "inputWidgets": {},
     "nuid": "92481eb3-bc8e-4e66-aa45-5c1043b74dcc",
     "showTitle": false,
     "tableResultSettingsMap": {},
     "title": ""
    }
   },
   "outputs": [],
   "source": [
    "csv \n",
    "\n",
    "(upto 97% )\n",
    "\n",
    "\n",
    "parquet \n",
    "\n",
    "delta iceberg (support acid)"
   ]
  },
  {
   "cell_type": "code",
   "execution_count": 0,
   "metadata": {
    "application/vnd.databricks.v1+cell": {
     "cellMetadata": {},
     "inputWidgets": {},
     "nuid": "f1f00061-e5ea-4f66-8e69-76b3eceae481",
     "showTitle": false,
     "tableResultSettingsMap": {},
     "title": ""
    }
   },
   "outputs": [],
   "source": [
    "iceberg (support acid)\n",
    "\n",
    "parquet\n",
    "+ \n",
    "metadata"
   ]
  },
  {
   "cell_type": "code",
   "execution_count": 0,
   "metadata": {
    "application/vnd.databricks.v1+cell": {
     "cellMetadata": {},
     "inputWidgets": {},
     "nuid": "b32c917a-e0c5-4bd9-8a83-c9105db79dd6",
     "showTitle": false,
     "tableResultSettingsMap": {},
     "title": ""
    }
   },
   "outputs": [],
   "source": [
    "delta lake (support acid)\n",
    "\n",
    "parquet\n",
    "+ \n",
    "delta_logs "
   ]
  }
 ],
 "metadata": {
  "application/vnd.databricks.v1+notebook": {
   "computePreferences": null,
   "dashboards": [],
   "environmentMetadata": {
    "base_environment": "",
    "environment_version": "2"
   },
   "inputWidgetPreferences": null,
   "language": "sql",
   "notebookMetadata": {
    "pythonIndentUnit": 4
   },
   "notebookName": "Lakehouse",
   "widgets": {}
  },
  "language_info": {
   "name": "sql"
  }
 },
 "nbformat": 4,
 "nbformat_minor": 0
}
