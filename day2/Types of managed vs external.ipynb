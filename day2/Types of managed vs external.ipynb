{
 "cells": [
  {
   "cell_type": "code",
   "execution_count": 0,
   "metadata": {
    "application/vnd.databricks.v1+cell": {
     "cellMetadata": {},
     "inputWidgets": {},
     "nuid": "611e1f79-3a57-46bc-9592-ca4b1d590797",
     "showTitle": false,
     "tableResultSettingsMap": {},
     "title": ""
    }
   },
   "outputs": [],
   "source": [
    "Managed table \n",
    "\n",
    "1. create table tble(id int)\n",
    "2. create table tblname as select * from other\n",
    "3. df=spark.read.csv(\"path\")\n",
    "  df.write.saveAsTable(\"tble\")\n",
    "\n",
    "Drop managed table (table from schema + (parquet files + delta_logs))--- everything \n",
    "\n",
    "unmanaged / external tables\n",
    "\n",
    "1. create table tble(id int) location 's3://bucket'\n",
    "2. create table tblname location 's3://bucket' as select * from other\n",
    "3. df=spark.read.csv(\"path\")\n",
    "  df.write.option(\"path\",\"s3\").saveAsTable(\"tble\")\n",
    "\n",
    "\n",
    "Drop unmanaged table (table from schema) --dropped-- but (parquet files + delta_logs)) are untouched\n",
    "\n"
   ]
  },
  {
   "cell_type": "code",
   "execution_count": 0,
   "metadata": {
    "application/vnd.databricks.v1+cell": {
     "cellMetadata": {
      "byteLimit": 2048000,
      "rowLimit": 10000
     },
     "inputWidgets": {},
     "nuid": "39874bbb-5c31-4d60-81a4-f8ba4672d7d6",
     "showTitle": false,
     "tableResultSettingsMap": {},
     "title": ""
    }
   },
   "outputs": [],
   "source": [
    "create or replace table dev.naval.ex_test (id int) location 's3://jpmctraining/delta/naval/ex_test'"
   ]
  },
  {
   "cell_type": "code",
   "execution_count": 0,
   "metadata": {
    "application/vnd.databricks.v1+cell": {
     "cellMetadata": {
      "byteLimit": 2048000,
      "rowLimit": 10000
     },
     "inputWidgets": {},
     "nuid": "e3859bd5-430b-4197-bb43-1f93062d2bab",
     "showTitle": false,
     "tableResultSettingsMap": {},
     "title": ""
    }
   },
   "outputs": [],
   "source": [
    "insert into dev.naval.ex_test values (1),(2),(3);\n",
    "select * from dev.naval.ex_test"
   ]
  },
  {
   "cell_type": "code",
   "execution_count": 0,
   "metadata": {
    "application/vnd.databricks.v1+cell": {
     "cellMetadata": {
      "byteLimit": 2048000,
      "rowLimit": 10000
     },
     "inputWidgets": {},
     "nuid": "10dc9ece-d154-40f0-8d77-1d6af62ef930",
     "showTitle": false,
     "tableResultSettingsMap": {},
     "title": ""
    }
   },
   "outputs": [],
   "source": [
    "select * from delta.`s3://jpmctraining/delta/naval/ex_test`"
   ]
  },
  {
   "cell_type": "code",
   "execution_count": 0,
   "metadata": {
    "application/vnd.databricks.v1+cell": {
     "cellMetadata": {
      "byteLimit": 2048000,
      "rowLimit": 10000
     },
     "inputWidgets": {},
     "nuid": "89ae1caf-f340-4728-994e-33f1e3dd15be",
     "showTitle": false,
     "tableResultSettingsMap": {},
     "title": ""
    }
   },
   "outputs": [],
   "source": [
    "drop table dev.naval.ex_test"
   ]
  }
 ],
 "metadata": {
  "application/vnd.databricks.v1+notebook": {
   "computePreferences": null,
   "dashboards": [],
   "environmentMetadata": {
    "base_environment": "",
    "environment_version": "2"
   },
   "inputWidgetPreferences": null,
   "language": "sql",
   "notebookMetadata": {
    "pythonIndentUnit": 4
   },
   "notebookName": "Types of managed vs external",
   "widgets": {}
  },
  "language_info": {
   "name": "sql"
  }
 },
 "nbformat": 4,
 "nbformat_minor": 0
}
