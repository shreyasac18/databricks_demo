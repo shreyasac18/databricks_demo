{
 "cells": [
  {
   "cell_type": "code",
   "execution_count": 0,
   "metadata": {
    "application/vnd.databricks.v1+cell": {
     "cellMetadata": {
      "byteLimit": 2048000,
      "rowLimit": 10000
     },
     "inputWidgets": {},
     "nuid": "1825d765-83f9-4bc0-ab28-b2e7f08ee603",
     "showTitle": true,
     "tableResultSettingsMap": {},
     "title": "sales silver"
    }
   },
   "outputs": [],
   "source": [
    "%python\n",
    "df=spark.read.table(\"dev.shreya_bronze.sales\")\n",
    "\n",
    "df1=df.dropDuplicates().dropna().drop(\"ingestion_date\")\n",
    "\n",
    "df1.write.mode(\"overwrite\").saveAsTable(\"dev.shreya_silver.sales_cleaned\")"
   ]
  },
  {
   "cell_type": "code",
   "execution_count": 0,
   "metadata": {
    "application/vnd.databricks.v1+cell": {
     "cellMetadata": {
      "byteLimit": 2048000,
      "rowLimit": 10000
     },
     "inputWidgets": {},
     "nuid": "aa9c8a02-9468-4d20-b0fc-29794511506a",
     "showTitle": true,
     "tableResultSettingsMap": {},
     "title": "product silver"
    }
   },
   "outputs": [],
   "source": [
    "create or replace table dev.shreya_silver.products_scd1 (product_id int , product_name string, price double, category string)"
   ]
  },
  {
   "cell_type": "code",
   "execution_count": 0,
   "metadata": {
    "application/vnd.databricks.v1+cell": {
     "cellMetadata": {
      "byteLimit": 2048000,
      "rowLimit": 10000
     },
     "inputWidgets": {},
     "nuid": "0acca0d1-4667-4eaa-9ced-d10c1da4d72d",
     "showTitle": false,
     "tableResultSettingsMap": {},
     "title": ""
    }
   },
   "outputs": [],
   "source": [
    "with deduplicated_source as \n",
    "(\n",
    "  select s.*,\n",
    "  row_number() over(partition by product_id order by seqNum desc) as row_number\n",
    "  from dev.shreya_bronze.products s\n",
    "  )\n",
    "merge into dev.shreya_silver.products_scd1 t\n",
    "using (select * from deduplicated_source where row_number =1)s \n",
    "on t.product_id = s.product_id\n",
    "when matched and s.operation=\"DELETE\" \n",
    "then delete\n",
    "when matched and s.operation=\"UPDATE\" then update\n",
    "set \n",
    "t.product_name = s.product_name,\n",
    "t.price = s.product_price,\n",
    "t.category = s.product_category\n",
    "when not matched then insert \n",
    "(t.product_id, t.product_name, t.price, t.category) values (s.product_id, s.product_name, s.product_price, s.product_category)"
   ]
  }
 ],
 "metadata": {
  "application/vnd.databricks.v1+notebook": {
   "computePreferences": null,
   "dashboards": [],
   "environmentMetadata": {
    "base_environment": "",
    "environment_version": "2"
   },
   "inputWidgetPreferences": null,
   "language": "sql",
   "notebookMetadata": {
    "pythonIndentUnit": 4
   },
   "notebookName": "Silver",
   "widgets": {}
  },
  "language_info": {
   "name": "sql"
  }
 },
 "nbformat": 4,
 "nbformat_minor": 0
}
